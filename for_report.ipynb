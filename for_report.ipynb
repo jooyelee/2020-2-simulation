{
 "cells": [
  {
   "cell_type": "code",
   "execution_count": 1,
   "metadata": {},
   "outputs": [],
   "source": [
    "import pandas as pd\n",
    "import numpy as np\n",
    "from scipy.stats import *\n",
    "import seaborn as sns\n",
    "import pylab\n",
    "import matplotlib.pyplot as plt"
   ]
  },
  {
   "cell_type": "code",
   "execution_count": 2,
   "metadata": {},
   "outputs": [
    {
     "data": {
      "text/plain": [
       "floor            int64\n",
       "arrival_time    object\n",
       "compound         int64\n",
       "dtype: object"
      ]
     },
     "execution_count": 2,
     "metadata": {},
     "output_type": "execute_result"
    }
   ],
   "source": [
    "df = pd.read_csv(\"elevator_arrival.csv\")\n",
    "df.columns = [\"floor\",\"arrival_time\",\"compound\"] \n",
    "# 층, 도착시간, 같이 도착한 사람수\n",
    "df.dtypes"
   ]
  },
  {
   "cell_type": "code",
   "execution_count": 3,
   "metadata": {},
   "outputs": [],
   "source": [
    "# 도착 시간의 자료형 변환\n",
    "df['arrival'] = pd.to_datetime(df['arrival_time'], format='%H:%M:%S', errors='raise')\n",
    "df[\"arrivalsec\"] = df[\"arrival\"].dt.second\n",
    "df[\"arrivalmin\"] = df[\"arrival\"].dt.minute\n",
    "df[\"arrivalhour\"] = df[\"arrival\"].dt.hour\n",
    "# 분을 기준으로 도착시간의 새로운 변수 생성\n",
    "df[\"all\"] = df[\"arrivalsec\"]/60+df[\"arrivalmin\"] +60*df[\"arrivalhour\"]"
   ]
  },
  {
   "cell_type": "code",
   "execution_count": 4,
   "metadata": {},
   "outputs": [
    {
     "data": {
      "text/html": [
       "<div>\n",
       "<style scoped>\n",
       "    .dataframe tbody tr th:only-of-type {\n",
       "        vertical-align: middle;\n",
       "    }\n",
       "\n",
       "    .dataframe tbody tr th {\n",
       "        vertical-align: top;\n",
       "    }\n",
       "\n",
       "    .dataframe thead th {\n",
       "        text-align: right;\n",
       "    }\n",
       "</style>\n",
       "<table border=\"1\" class=\"dataframe\">\n",
       "  <thead>\n",
       "    <tr style=\"text-align: right;\">\n",
       "      <th></th>\n",
       "      <th>floor</th>\n",
       "      <th>arrival_time</th>\n",
       "      <th>compound</th>\n",
       "      <th>arrival</th>\n",
       "      <th>arrivalsec</th>\n",
       "      <th>arrivalmin</th>\n",
       "      <th>arrivalhour</th>\n",
       "      <th>all</th>\n",
       "    </tr>\n",
       "  </thead>\n",
       "  <tbody>\n",
       "    <tr>\n",
       "      <th>0</th>\n",
       "      <td>3</td>\n",
       "      <td>0:09:40</td>\n",
       "      <td>2</td>\n",
       "      <td>1900-01-01 00:09:40</td>\n",
       "      <td>40</td>\n",
       "      <td>9</td>\n",
       "      <td>0</td>\n",
       "      <td>9.666667</td>\n",
       "    </tr>\n",
       "    <tr>\n",
       "      <th>1</th>\n",
       "      <td>3</td>\n",
       "      <td>0:23:39</td>\n",
       "      <td>1</td>\n",
       "      <td>1900-01-01 00:23:39</td>\n",
       "      <td>39</td>\n",
       "      <td>23</td>\n",
       "      <td>0</td>\n",
       "      <td>23.650000</td>\n",
       "    </tr>\n",
       "    <tr>\n",
       "      <th>2</th>\n",
       "      <td>3</td>\n",
       "      <td>0:25:48</td>\n",
       "      <td>1</td>\n",
       "      <td>1900-01-01 00:25:48</td>\n",
       "      <td>48</td>\n",
       "      <td>25</td>\n",
       "      <td>0</td>\n",
       "      <td>25.800000</td>\n",
       "    </tr>\n",
       "    <tr>\n",
       "      <th>3</th>\n",
       "      <td>3</td>\n",
       "      <td>0:25:56</td>\n",
       "      <td>1</td>\n",
       "      <td>1900-01-01 00:25:56</td>\n",
       "      <td>56</td>\n",
       "      <td>25</td>\n",
       "      <td>0</td>\n",
       "      <td>25.933333</td>\n",
       "    </tr>\n",
       "    <tr>\n",
       "      <th>4</th>\n",
       "      <td>3</td>\n",
       "      <td>0:26:12</td>\n",
       "      <td>1</td>\n",
       "      <td>1900-01-01 00:26:12</td>\n",
       "      <td>12</td>\n",
       "      <td>26</td>\n",
       "      <td>0</td>\n",
       "      <td>26.200000</td>\n",
       "    </tr>\n",
       "  </tbody>\n",
       "</table>\n",
       "</div>"
      ],
      "text/plain": [
       "   floor arrival_time  compound             arrival  arrivalsec  arrivalmin  \\\n",
       "0      3      0:09:40         2 1900-01-01 00:09:40          40           9   \n",
       "1      3      0:23:39         1 1900-01-01 00:23:39          39          23   \n",
       "2      3      0:25:48         1 1900-01-01 00:25:48          48          25   \n",
       "3      3      0:25:56         1 1900-01-01 00:25:56          56          25   \n",
       "4      3      0:26:12         1 1900-01-01 00:26:12          12          26   \n",
       "\n",
       "   arrivalhour        all  \n",
       "0            0   9.666667  \n",
       "1            0  23.650000  \n",
       "2            0  25.800000  \n",
       "3            0  25.933333  \n",
       "4            0  26.200000  "
      ]
     },
     "execution_count": 4,
     "metadata": {},
     "output_type": "execute_result"
    }
   ],
   "source": [
    "df.head()"
   ]
  },
  {
   "cell_type": "code",
   "execution_count": 5,
   "metadata": {},
   "outputs": [
    {
     "data": {
      "text/html": [
       "<div>\n",
       "<style scoped>\n",
       "    .dataframe tbody tr th:only-of-type {\n",
       "        vertical-align: middle;\n",
       "    }\n",
       "\n",
       "    .dataframe tbody tr th {\n",
       "        vertical-align: top;\n",
       "    }\n",
       "\n",
       "    .dataframe thead th {\n",
       "        text-align: right;\n",
       "    }\n",
       "</style>\n",
       "<table border=\"1\" class=\"dataframe\">\n",
       "  <thead>\n",
       "    <tr style=\"text-align: right;\">\n",
       "      <th></th>\n",
       "      <th>floor</th>\n",
       "      <th>compound</th>\n",
       "      <th>arrivalsec</th>\n",
       "      <th>arrivalmin</th>\n",
       "      <th>arrivalhour</th>\n",
       "      <th>all</th>\n",
       "    </tr>\n",
       "  </thead>\n",
       "  <tbody>\n",
       "    <tr>\n",
       "      <th>count</th>\n",
       "      <td>129.000000</td>\n",
       "      <td>129.000000</td>\n",
       "      <td>129.000000</td>\n",
       "      <td>129.000000</td>\n",
       "      <td>129.000000</td>\n",
       "      <td>129.000000</td>\n",
       "    </tr>\n",
       "    <tr>\n",
       "      <th>mean</th>\n",
       "      <td>9.170543</td>\n",
       "      <td>1.434109</td>\n",
       "      <td>28.348837</td>\n",
       "      <td>23.379845</td>\n",
       "      <td>0.418605</td>\n",
       "      <td>48.968605</td>\n",
       "    </tr>\n",
       "    <tr>\n",
       "      <th>std</th>\n",
       "      <td>10.674242</td>\n",
       "      <td>0.798876</td>\n",
       "      <td>18.091629</td>\n",
       "      <td>13.664618</td>\n",
       "      <td>0.495254</td>\n",
       "      <td>27.774765</td>\n",
       "    </tr>\n",
       "    <tr>\n",
       "      <th>min</th>\n",
       "      <td>1.000000</td>\n",
       "      <td>1.000000</td>\n",
       "      <td>0.000000</td>\n",
       "      <td>0.000000</td>\n",
       "      <td>0.000000</td>\n",
       "      <td>1.283333</td>\n",
       "    </tr>\n",
       "    <tr>\n",
       "      <th>25%</th>\n",
       "      <td>1.000000</td>\n",
       "      <td>1.000000</td>\n",
       "      <td>12.000000</td>\n",
       "      <td>13.000000</td>\n",
       "      <td>0.000000</td>\n",
       "      <td>25.566667</td>\n",
       "    </tr>\n",
       "    <tr>\n",
       "      <th>50%</th>\n",
       "      <td>5.000000</td>\n",
       "      <td>1.000000</td>\n",
       "      <td>27.000000</td>\n",
       "      <td>22.000000</td>\n",
       "      <td>0.000000</td>\n",
       "      <td>43.366667</td>\n",
       "    </tr>\n",
       "    <tr>\n",
       "      <th>75%</th>\n",
       "      <td>11.000000</td>\n",
       "      <td>2.000000</td>\n",
       "      <td>45.000000</td>\n",
       "      <td>31.000000</td>\n",
       "      <td>1.000000</td>\n",
       "      <td>75.266667</td>\n",
       "    </tr>\n",
       "    <tr>\n",
       "      <th>max</th>\n",
       "      <td>33.000000</td>\n",
       "      <td>4.000000</td>\n",
       "      <td>59.000000</td>\n",
       "      <td>59.000000</td>\n",
       "      <td>1.000000</td>\n",
       "      <td>90.516667</td>\n",
       "    </tr>\n",
       "  </tbody>\n",
       "</table>\n",
       "</div>"
      ],
      "text/plain": [
       "            floor    compound  arrivalsec  arrivalmin  arrivalhour         all\n",
       "count  129.000000  129.000000  129.000000  129.000000   129.000000  129.000000\n",
       "mean     9.170543    1.434109   28.348837   23.379845     0.418605   48.968605\n",
       "std     10.674242    0.798876   18.091629   13.664618     0.495254   27.774765\n",
       "min      1.000000    1.000000    0.000000    0.000000     0.000000    1.283333\n",
       "25%      1.000000    1.000000   12.000000   13.000000     0.000000   25.566667\n",
       "50%      5.000000    1.000000   27.000000   22.000000     0.000000   43.366667\n",
       "75%     11.000000    2.000000   45.000000   31.000000     1.000000   75.266667\n",
       "max     33.000000    4.000000   59.000000   59.000000     1.000000   90.516667"
      ]
     },
     "execution_count": 5,
     "metadata": {},
     "output_type": "execute_result"
    }
   ],
   "source": [
    "df.describe()"
   ]
  },
  {
   "cell_type": "code",
   "execution_count": 6,
   "metadata": {},
   "outputs": [],
   "source": [
    "# 통합된 데이터로 부터 각 층별 데이터 추출하기\n",
    "grouped = df.groupby(df.floor) \n",
    "df_1 = grouped.get_group(1) # 11.16의 1층 데이터\n",
    "df_3 = grouped.get_group(3) # 11.16의 3층 데이터\n",
    "df_5 = grouped.get_group(5) # 11.16의 5층 데이터\n",
    "df_11 = grouped.get_group(11) # 12.1의 1층 데이터\n",
    "df_33 = grouped.get_group(33) # 12.1의 3층 데이터"
   ]
  },
  {
   "cell_type": "code",
   "execution_count": 7,
   "metadata": {},
   "outputs": [
    {
     "data": {
      "image/png": "[encoded data removed]",
      "text/plain": [
       "<Figure size 1000x300 with 5 Axes>"
      ]
     },
     "metadata": {
      "needs_background": "light"
     },
     "output_type": "display_data"
    }
   ],
   "source": [
    "# plot\n",
    "fig, axes = plt.subplots(1, 5, figsize=(10, 3), sharey=True, dpi=100)\n",
    "ax = sns.histplot(data= df_1, x = \"all\" , color=\"dodgerblue\", ax=axes[0],bins=10)\n",
    "ax.set(xlabel=\"1\")\n",
    "ax =sns.histplot(data=df_3, x = \"all\" , color=\"deeppink\", ax=axes[1],bins=10)\n",
    "ax.set(xlabel=\"3\")\n",
    "ax =sns.histplot(data=df_5, x = \"all\", color=\"gold\", ax=axes[2], bins=10)\n",
    "ax.set(xlabel=\"5\")\n",
    "ax =sns.histplot(data=df_11, x = \"all\" , color=\"dodgerblue\", ax=axes[3], bins=10)\n",
    "ax.set(xlabel=\"11\")\n",
    "ax =sns.histplot(data=df_33, x = \"all\" , color=\"deeppink\", ax=axes[4],bins=10)\n",
    "ax.set(xlabel=\"33\")\n",
    "plt.xlim(50,75);"
   ]
  },
  {
   "cell_type": "code",
   "execution_count": 8,
   "metadata": {},
   "outputs": [
    {
     "data": {
      "text/html": [
       "<div>\n",
       "<style scoped>\n",
       "    .dataframe tbody tr th:only-of-type {\n",
       "        vertical-align: middle;\n",
       "    }\n",
       "\n",
       "    .dataframe tbody tr th {\n",
       "        vertical-align: top;\n",
       "    }\n",
       "\n",
       "    .dataframe thead th {\n",
       "        text-align: right;\n",
       "    }\n",
       "</style>\n",
       "<table border=\"1\" class=\"dataframe\">\n",
       "  <thead>\n",
       "    <tr style=\"text-align: right;\">\n",
       "      <th></th>\n",
       "      <th>floor</th>\n",
       "      <th>compound</th>\n",
       "      <th>arrivalsec</th>\n",
       "      <th>arrivalmin</th>\n",
       "      <th>arrivalhour</th>\n",
       "      <th>all</th>\n",
       "    </tr>\n",
       "  </thead>\n",
       "  <tbody>\n",
       "    <tr>\n",
       "      <th>count</th>\n",
       "      <td>45.0</td>\n",
       "      <td>45.000000</td>\n",
       "      <td>45.000000</td>\n",
       "      <td>45.000000</td>\n",
       "      <td>45.000000</td>\n",
       "      <td>45.000000</td>\n",
       "    </tr>\n",
       "    <tr>\n",
       "      <th>mean</th>\n",
       "      <td>1.0</td>\n",
       "      <td>1.644444</td>\n",
       "      <td>28.288889</td>\n",
       "      <td>24.844444</td>\n",
       "      <td>0.511111</td>\n",
       "      <td>55.982593</td>\n",
       "    </tr>\n",
       "    <tr>\n",
       "      <th>std</th>\n",
       "      <td>0.0</td>\n",
       "      <td>1.003529</td>\n",
       "      <td>18.028541</td>\n",
       "      <td>13.404469</td>\n",
       "      <td>0.505525</td>\n",
       "      <td>26.428919</td>\n",
       "    </tr>\n",
       "    <tr>\n",
       "      <th>min</th>\n",
       "      <td>1.0</td>\n",
       "      <td>1.000000</td>\n",
       "      <td>0.000000</td>\n",
       "      <td>0.000000</td>\n",
       "      <td>0.000000</td>\n",
       "      <td>10.066667</td>\n",
       "    </tr>\n",
       "    <tr>\n",
       "      <th>25%</th>\n",
       "      <td>1.0</td>\n",
       "      <td>1.000000</td>\n",
       "      <td>12.000000</td>\n",
       "      <td>15.000000</td>\n",
       "      <td>0.000000</td>\n",
       "      <td>33.366667</td>\n",
       "    </tr>\n",
       "    <tr>\n",
       "      <th>50%</th>\n",
       "      <td>1.0</td>\n",
       "      <td>1.000000</td>\n",
       "      <td>27.000000</td>\n",
       "      <td>23.000000</td>\n",
       "      <td>1.000000</td>\n",
       "      <td>60.133333</td>\n",
       "    </tr>\n",
       "    <tr>\n",
       "      <th>75%</th>\n",
       "      <td>1.0</td>\n",
       "      <td>2.000000</td>\n",
       "      <td>46.000000</td>\n",
       "      <td>31.000000</td>\n",
       "      <td>1.000000</td>\n",
       "      <td>80.266667</td>\n",
       "    </tr>\n",
       "    <tr>\n",
       "      <th>max</th>\n",
       "      <td>1.0</td>\n",
       "      <td>4.000000</td>\n",
       "      <td>59.000000</td>\n",
       "      <td>59.000000</td>\n",
       "      <td>1.000000</td>\n",
       "      <td>90.516667</td>\n",
       "    </tr>\n",
       "  </tbody>\n",
       "</table>\n",
       "</div>"
      ],
      "text/plain": [
       "       floor   compound  arrivalsec  arrivalmin  arrivalhour        all\n",
       "count   45.0  45.000000   45.000000   45.000000    45.000000  45.000000\n",
       "mean     1.0   1.644444   28.288889   24.844444     0.511111  55.982593\n",
       "std      0.0   1.003529   18.028541   13.404469     0.505525  26.428919\n",
       "min      1.0   1.000000    0.000000    0.000000     0.000000  10.066667\n",
       "25%      1.0   1.000000   12.000000   15.000000     0.000000  33.366667\n",
       "50%      1.0   1.000000   27.000000   23.000000     1.000000  60.133333\n",
       "75%      1.0   2.000000   46.000000   31.000000     1.000000  80.266667\n",
       "max      1.0   4.000000   59.000000   59.000000     1.000000  90.516667"
      ]
     },
     "execution_count": 8,
     "metadata": {},
     "output_type": "execute_result"
    }
   ],
   "source": [
    "df_1.describe()"
   ]
  },
  {
   "cell_type": "code",
   "execution_count": 9,
   "metadata": {},
   "outputs": [
    {
     "data": {
      "text/html": [
       "<div>\n",
       "<style scoped>\n",
       "    .dataframe tbody tr th:only-of-type {\n",
       "        vertical-align: middle;\n",
       "    }\n",
       "\n",
       "    .dataframe tbody tr th {\n",
       "        vertical-align: top;\n",
       "    }\n",
       "\n",
       "    .dataframe thead th {\n",
       "        text-align: right;\n",
       "    }\n",
       "</style>\n",
       "<table border=\"1\" class=\"dataframe\">\n",
       "  <thead>\n",
       "    <tr style=\"text-align: right;\">\n",
       "      <th></th>\n",
       "      <th>floor</th>\n",
       "      <th>compound</th>\n",
       "      <th>arrivalsec</th>\n",
       "      <th>arrivalmin</th>\n",
       "      <th>arrivalhour</th>\n",
       "      <th>all</th>\n",
       "    </tr>\n",
       "  </thead>\n",
       "  <tbody>\n",
       "    <tr>\n",
       "      <th>count</th>\n",
       "      <td>6.0</td>\n",
       "      <td>6.000000</td>\n",
       "      <td>6.000000</td>\n",
       "      <td>6.000000</td>\n",
       "      <td>6.0</td>\n",
       "      <td>6.000000</td>\n",
       "    </tr>\n",
       "    <tr>\n",
       "      <th>mean</th>\n",
       "      <td>3.0</td>\n",
       "      <td>1.333333</td>\n",
       "      <td>33.666667</td>\n",
       "      <td>25.166667</td>\n",
       "      <td>0.0</td>\n",
       "      <td>25.727778</td>\n",
       "    </tr>\n",
       "    <tr>\n",
       "      <th>std</th>\n",
       "      <td>0.0</td>\n",
       "      <td>0.516398</td>\n",
       "      <td>19.765289</td>\n",
       "      <td>10.815113</td>\n",
       "      <td>0.0</td>\n",
       "      <td>10.629397</td>\n",
       "    </tr>\n",
       "    <tr>\n",
       "      <th>min</th>\n",
       "      <td>3.0</td>\n",
       "      <td>1.000000</td>\n",
       "      <td>7.000000</td>\n",
       "      <td>9.000000</td>\n",
       "      <td>0.0</td>\n",
       "      <td>9.666667</td>\n",
       "    </tr>\n",
       "    <tr>\n",
       "      <th>25%</th>\n",
       "      <td>3.0</td>\n",
       "      <td>1.000000</td>\n",
       "      <td>18.750000</td>\n",
       "      <td>23.500000</td>\n",
       "      <td>0.0</td>\n",
       "      <td>24.187500</td>\n",
       "    </tr>\n",
       "    <tr>\n",
       "      <th>50%</th>\n",
       "      <td>3.0</td>\n",
       "      <td>1.000000</td>\n",
       "      <td>39.500000</td>\n",
       "      <td>25.000000</td>\n",
       "      <td>0.0</td>\n",
       "      <td>25.866667</td>\n",
       "    </tr>\n",
       "    <tr>\n",
       "      <th>75%</th>\n",
       "      <td>3.0</td>\n",
       "      <td>1.750000</td>\n",
       "      <td>46.000000</td>\n",
       "      <td>25.750000</td>\n",
       "      <td>0.0</td>\n",
       "      <td>26.133333</td>\n",
       "    </tr>\n",
       "    <tr>\n",
       "      <th>max</th>\n",
       "      <td>3.0</td>\n",
       "      <td>2.000000</td>\n",
       "      <td>56.000000</td>\n",
       "      <td>43.000000</td>\n",
       "      <td>0.0</td>\n",
       "      <td>43.116667</td>\n",
       "    </tr>\n",
       "  </tbody>\n",
       "</table>\n",
       "</div>"
      ],
      "text/plain": [
       "       floor  compound  arrivalsec  arrivalmin  arrivalhour        all\n",
       "count    6.0  6.000000    6.000000    6.000000          6.0   6.000000\n",
       "mean     3.0  1.333333   33.666667   25.166667          0.0  25.727778\n",
       "std      0.0  0.516398   19.765289   10.815113          0.0  10.629397\n",
       "min      3.0  1.000000    7.000000    9.000000          0.0   9.666667\n",
       "25%      3.0  1.000000   18.750000   23.500000          0.0  24.187500\n",
       "50%      3.0  1.000000   39.500000   25.000000          0.0  25.866667\n",
       "75%      3.0  1.750000   46.000000   25.750000          0.0  26.133333\n",
       "max      3.0  2.000000   56.000000   43.000000          0.0  43.116667"
      ]
     },
     "execution_count": 9,
     "metadata": {},
     "output_type": "execute_result"
    }
   ],
   "source": [
    "df_3.describe()"
   ]
  },
  {
   "cell_type": "code",
   "execution_count": 10,
   "metadata": {},
   "outputs": [
    {
     "data": {
      "text/html": [
       "<div>\n",
       "<style scoped>\n",
       "    .dataframe tbody tr th:only-of-type {\n",
       "        vertical-align: middle;\n",
       "    }\n",
       "\n",
       "    .dataframe tbody tr th {\n",
       "        vertical-align: top;\n",
       "    }\n",
       "\n",
       "    .dataframe thead th {\n",
       "        text-align: right;\n",
       "    }\n",
       "</style>\n",
       "<table border=\"1\" class=\"dataframe\">\n",
       "  <thead>\n",
       "    <tr style=\"text-align: right;\">\n",
       "      <th></th>\n",
       "      <th>floor</th>\n",
       "      <th>compound</th>\n",
       "      <th>arrivalsec</th>\n",
       "      <th>arrivalmin</th>\n",
       "      <th>arrivalhour</th>\n",
       "      <th>all</th>\n",
       "    </tr>\n",
       "  </thead>\n",
       "  <tbody>\n",
       "    <tr>\n",
       "      <th>count</th>\n",
       "      <td>26.0</td>\n",
       "      <td>26.000000</td>\n",
       "      <td>26.000000</td>\n",
       "      <td>26.000000</td>\n",
       "      <td>26.000000</td>\n",
       "      <td>26.000000</td>\n",
       "    </tr>\n",
       "    <tr>\n",
       "      <th>mean</th>\n",
       "      <td>5.0</td>\n",
       "      <td>1.346154</td>\n",
       "      <td>26.076923</td>\n",
       "      <td>23.307692</td>\n",
       "      <td>0.192308</td>\n",
       "      <td>35.280769</td>\n",
       "    </tr>\n",
       "    <tr>\n",
       "      <th>std</th>\n",
       "      <td>0.0</td>\n",
       "      <td>0.689481</td>\n",
       "      <td>19.394686</td>\n",
       "      <td>16.396998</td>\n",
       "      <td>0.401918</td>\n",
       "      <td>21.071156</td>\n",
       "    </tr>\n",
       "    <tr>\n",
       "      <th>min</th>\n",
       "      <td>5.0</td>\n",
       "      <td>1.000000</td>\n",
       "      <td>0.000000</td>\n",
       "      <td>1.000000</td>\n",
       "      <td>0.000000</td>\n",
       "      <td>3.000000</td>\n",
       "    </tr>\n",
       "    <tr>\n",
       "      <th>25%</th>\n",
       "      <td>5.0</td>\n",
       "      <td>1.000000</td>\n",
       "      <td>10.000000</td>\n",
       "      <td>12.000000</td>\n",
       "      <td>0.000000</td>\n",
       "      <td>13.579167</td>\n",
       "    </tr>\n",
       "    <tr>\n",
       "      <th>50%</th>\n",
       "      <td>5.0</td>\n",
       "      <td>1.000000</td>\n",
       "      <td>22.500000</td>\n",
       "      <td>22.500000</td>\n",
       "      <td>0.000000</td>\n",
       "      <td>32.083333</td>\n",
       "    </tr>\n",
       "    <tr>\n",
       "      <th>75%</th>\n",
       "      <td>5.0</td>\n",
       "      <td>1.750000</td>\n",
       "      <td>40.000000</td>\n",
       "      <td>33.500000</td>\n",
       "      <td>0.000000</td>\n",
       "      <td>53.133333</td>\n",
       "    </tr>\n",
       "    <tr>\n",
       "      <th>max</th>\n",
       "      <td>5.0</td>\n",
       "      <td>4.000000</td>\n",
       "      <td>58.000000</td>\n",
       "      <td>56.000000</td>\n",
       "      <td>1.000000</td>\n",
       "      <td>80.966667</td>\n",
       "    </tr>\n",
       "  </tbody>\n",
       "</table>\n",
       "</div>"
      ],
      "text/plain": [
       "       floor   compound  arrivalsec  arrivalmin  arrivalhour        all\n",
       "count   26.0  26.000000   26.000000   26.000000    26.000000  26.000000\n",
       "mean     5.0   1.346154   26.076923   23.307692     0.192308  35.280769\n",
       "std      0.0   0.689481   19.394686   16.396998     0.401918  21.071156\n",
       "min      5.0   1.000000    0.000000    1.000000     0.000000   3.000000\n",
       "25%      5.0   1.000000   10.000000   12.000000     0.000000  13.579167\n",
       "50%      5.0   1.000000   22.500000   22.500000     0.000000  32.083333\n",
       "75%      5.0   1.750000   40.000000   33.500000     0.000000  53.133333\n",
       "max      5.0   4.000000   58.000000   56.000000     1.000000  80.966667"
      ]
     },
     "execution_count": 10,
     "metadata": {},
     "output_type": "execute_result"
    }
   ],
   "source": [
    "df_5.describe()"
   ]
  },
  {
   "cell_type": "code",
   "execution_count": 11,
   "metadata": {},
   "outputs": [
    {
     "data": {
      "text/html": [
       "<div>\n",
       "<style scoped>\n",
       "    .dataframe tbody tr th:only-of-type {\n",
       "        vertical-align: middle;\n",
       "    }\n",
       "\n",
       "    .dataframe tbody tr th {\n",
       "        vertical-align: top;\n",
       "    }\n",
       "\n",
       "    .dataframe thead th {\n",
       "        text-align: right;\n",
       "    }\n",
       "</style>\n",
       "<table border=\"1\" class=\"dataframe\">\n",
       "  <thead>\n",
       "    <tr style=\"text-align: right;\">\n",
       "      <th></th>\n",
       "      <th>floor</th>\n",
       "      <th>compound</th>\n",
       "      <th>arrivalsec</th>\n",
       "      <th>arrivalmin</th>\n",
       "      <th>arrivalhour</th>\n",
       "      <th>all</th>\n",
       "    </tr>\n",
       "  </thead>\n",
       "  <tbody>\n",
       "    <tr>\n",
       "      <th>count</th>\n",
       "      <td>33.0</td>\n",
       "      <td>33.000000</td>\n",
       "      <td>33.000000</td>\n",
       "      <td>33.000000</td>\n",
       "      <td>33.000000</td>\n",
       "      <td>33.000000</td>\n",
       "    </tr>\n",
       "    <tr>\n",
       "      <th>mean</th>\n",
       "      <td>11.0</td>\n",
       "      <td>1.363636</td>\n",
       "      <td>29.181818</td>\n",
       "      <td>25.636364</td>\n",
       "      <td>0.606061</td>\n",
       "      <td>62.486364</td>\n",
       "    </tr>\n",
       "    <tr>\n",
       "      <th>std</th>\n",
       "      <td>0.0</td>\n",
       "      <td>0.699025</td>\n",
       "      <td>18.790713</td>\n",
       "      <td>11.836961</td>\n",
       "      <td>0.496198</td>\n",
       "      <td>23.612765</td>\n",
       "    </tr>\n",
       "    <tr>\n",
       "      <th>min</th>\n",
       "      <td>11.0</td>\n",
       "      <td>1.000000</td>\n",
       "      <td>0.000000</td>\n",
       "      <td>7.000000</td>\n",
       "      <td>0.000000</td>\n",
       "      <td>8.966667</td>\n",
       "    </tr>\n",
       "    <tr>\n",
       "      <th>25%</th>\n",
       "      <td>11.0</td>\n",
       "      <td>1.000000</td>\n",
       "      <td>12.000000</td>\n",
       "      <td>18.000000</td>\n",
       "      <td>0.000000</td>\n",
       "      <td>39.916667</td>\n",
       "    </tr>\n",
       "    <tr>\n",
       "      <th>50%</th>\n",
       "      <td>11.0</td>\n",
       "      <td>1.000000</td>\n",
       "      <td>29.000000</td>\n",
       "      <td>22.000000</td>\n",
       "      <td>1.000000</td>\n",
       "      <td>74.016667</td>\n",
       "    </tr>\n",
       "    <tr>\n",
       "      <th>75%</th>\n",
       "      <td>11.0</td>\n",
       "      <td>2.000000</td>\n",
       "      <td>46.000000</td>\n",
       "      <td>36.000000</td>\n",
       "      <td>1.000000</td>\n",
       "      <td>80.416667</td>\n",
       "    </tr>\n",
       "    <tr>\n",
       "      <th>max</th>\n",
       "      <td>11.0</td>\n",
       "      <td>4.000000</td>\n",
       "      <td>58.000000</td>\n",
       "      <td>50.000000</td>\n",
       "      <td>1.000000</td>\n",
       "      <td>90.300000</td>\n",
       "    </tr>\n",
       "  </tbody>\n",
       "</table>\n",
       "</div>"
      ],
      "text/plain": [
       "       floor   compound  arrivalsec  arrivalmin  arrivalhour        all\n",
       "count   33.0  33.000000   33.000000   33.000000    33.000000  33.000000\n",
       "mean    11.0   1.363636   29.181818   25.636364     0.606061  62.486364\n",
       "std      0.0   0.699025   18.790713   11.836961     0.496198  23.612765\n",
       "min     11.0   1.000000    0.000000    7.000000     0.000000   8.966667\n",
       "25%     11.0   1.000000   12.000000   18.000000     0.000000  39.916667\n",
       "50%     11.0   1.000000   29.000000   22.000000     1.000000  74.016667\n",
       "75%     11.0   2.000000   46.000000   36.000000     1.000000  80.416667\n",
       "max     11.0   4.000000   58.000000   50.000000     1.000000  90.300000"
      ]
     },
     "execution_count": 11,
     "metadata": {},
     "output_type": "execute_result"
    }
   ],
   "source": [
    "df_11.describe()"
   ]
  },
  {
   "cell_type": "code",
   "execution_count": 12,
   "metadata": {},
   "outputs": [
    {
     "data": {
      "text/html": [
       "<div>\n",
       "<style scoped>\n",
       "    .dataframe tbody tr th:only-of-type {\n",
       "        vertical-align: middle;\n",
       "    }\n",
       "\n",
       "    .dataframe tbody tr th {\n",
       "        vertical-align: top;\n",
       "    }\n",
       "\n",
       "    .dataframe thead th {\n",
       "        text-align: right;\n",
       "    }\n",
       "</style>\n",
       "<table border=\"1\" class=\"dataframe\">\n",
       "  <thead>\n",
       "    <tr style=\"text-align: right;\">\n",
       "      <th></th>\n",
       "      <th>floor</th>\n",
       "      <th>compound</th>\n",
       "      <th>arrivalsec</th>\n",
       "      <th>arrivalmin</th>\n",
       "      <th>arrivalhour</th>\n",
       "      <th>all</th>\n",
       "    </tr>\n",
       "  </thead>\n",
       "  <tbody>\n",
       "    <tr>\n",
       "      <th>count</th>\n",
       "      <td>19.0</td>\n",
       "      <td>19.000000</td>\n",
       "      <td>19.000000</td>\n",
       "      <td>19.000000</td>\n",
       "      <td>19.000000</td>\n",
       "      <td>19.000000</td>\n",
       "    </tr>\n",
       "    <tr>\n",
       "      <th>mean</th>\n",
       "      <td>33.0</td>\n",
       "      <td>1.210526</td>\n",
       "      <td>28.473684</td>\n",
       "      <td>15.526316</td>\n",
       "      <td>0.315789</td>\n",
       "      <td>34.948246</td>\n",
       "    </tr>\n",
       "    <tr>\n",
       "      <th>std</th>\n",
       "      <td>0.0</td>\n",
       "      <td>0.535303</td>\n",
       "      <td>16.004751</td>\n",
       "      <td>12.357492</td>\n",
       "      <td>0.477567</td>\n",
       "      <td>31.983452</td>\n",
       "    </tr>\n",
       "    <tr>\n",
       "      <th>min</th>\n",
       "      <td>33.0</td>\n",
       "      <td>1.000000</td>\n",
       "      <td>2.000000</td>\n",
       "      <td>1.000000</td>\n",
       "      <td>0.000000</td>\n",
       "      <td>1.283333</td>\n",
       "    </tr>\n",
       "    <tr>\n",
       "      <th>25%</th>\n",
       "      <td>33.0</td>\n",
       "      <td>1.000000</td>\n",
       "      <td>18.500000</td>\n",
       "      <td>7.500000</td>\n",
       "      <td>0.000000</td>\n",
       "      <td>9.066667</td>\n",
       "    </tr>\n",
       "    <tr>\n",
       "      <th>50%</th>\n",
       "      <td>33.0</td>\n",
       "      <td>1.000000</td>\n",
       "      <td>30.000000</td>\n",
       "      <td>12.000000</td>\n",
       "      <td>0.000000</td>\n",
       "      <td>16.700000</td>\n",
       "    </tr>\n",
       "    <tr>\n",
       "      <th>75%</th>\n",
       "      <td>33.0</td>\n",
       "      <td>1.000000</td>\n",
       "      <td>37.000000</td>\n",
       "      <td>21.000000</td>\n",
       "      <td>1.000000</td>\n",
       "      <td>69.858333</td>\n",
       "    </tr>\n",
       "    <tr>\n",
       "      <th>max</th>\n",
       "      <td>33.0</td>\n",
       "      <td>3.000000</td>\n",
       "      <td>55.000000</td>\n",
       "      <td>45.000000</td>\n",
       "      <td>1.000000</td>\n",
       "      <td>88.050000</td>\n",
       "    </tr>\n",
       "  </tbody>\n",
       "</table>\n",
       "</div>"
      ],
      "text/plain": [
       "       floor   compound  arrivalsec  arrivalmin  arrivalhour        all\n",
       "count   19.0  19.000000   19.000000   19.000000    19.000000  19.000000\n",
       "mean    33.0   1.210526   28.473684   15.526316     0.315789  34.948246\n",
       "std      0.0   0.535303   16.004751   12.357492     0.477567  31.983452\n",
       "min     33.0   1.000000    2.000000    1.000000     0.000000   1.283333\n",
       "25%     33.0   1.000000   18.500000    7.500000     0.000000   9.066667\n",
       "50%     33.0   1.000000   30.000000   12.000000     0.000000  16.700000\n",
       "75%     33.0   1.000000   37.000000   21.000000     1.000000  69.858333\n",
       "max     33.0   3.000000   55.000000   45.000000     1.000000  88.050000"
      ]
     },
     "execution_count": 12,
     "metadata": {},
     "output_type": "execute_result"
    }
   ],
   "source": [
    "df_33.describe()"
   ]
  },
  {
   "cell_type": "code",
   "execution_count": 13,
   "metadata": {},
   "outputs": [],
   "source": [
    "data = [sorted(df_1[\"all\"]),sorted(df_3[\"all\"]),sorted(df_5[\"all\"]),sorted(df_11[\"all\"]),sorted(df_33[\"all\"])]\n",
    "inter = [[0],[0],[0],[0],[0]]\n",
    "for i in range(5):\n",
    "    for j in range(len(data[i])-1):\n",
    "        inter[i].append(data[i][j+1]-data[i][j] )\n",
    "    inter[i].remove(0) # 처음에 강제적으로 넣은 0을 지워줌"
   ]
  },
  {
   "cell_type": "code",
   "execution_count": 14,
   "metadata": {},
   "outputs": [
    {
     "data": {
      "text/plain": [
       "<AxesSubplot:ylabel='Count'>"
      ]
     },
     "execution_count": 14,
     "metadata": {},
     "output_type": "execute_result"
    },
    {
     "data": {
      "image/png": "[encoded data removed]",
      "text/plain": [
       "<Figure size 432x288 with 1 Axes>"
      ]
     },
     "metadata": {
      "needs_background": "light"
     },
     "output_type": "display_data"
    }
   ],
   "source": [
    "sns.histplot(data=inter[4], color=\"deeppink\")"
   ]
  },
  {
   "cell_type": "code",
   "execution_count": 15,
   "metadata": {},
   "outputs": [
    {
     "ename": "IndexError",
     "evalue": "index 5 is out of bounds for axis 0 with size 5",
     "output_type": "error",
     "traceback": [
      "\u001b[1;31m---------------------------------------------------------------------------\u001b[0m",
      "\u001b[1;31mIndexError\u001b[0m                                Traceback (most recent call last)",
      "\u001b[1;32m<ipython-input-15-f9614f420831>\u001b[0m in \u001b[0;36m<module>\u001b[1;34m\u001b[0m\n\u001b[0;32m     10\u001b[0m \u001b[0max\u001b[0m \u001b[1;33m=\u001b[0m\u001b[0msns\u001b[0m\u001b[1;33m.\u001b[0m\u001b[0mhistplot\u001b[0m\u001b[1;33m(\u001b[0m\u001b[0mdata\u001b[0m\u001b[1;33m=\u001b[0m\u001b[0minter\u001b[0m\u001b[1;33m[\u001b[0m\u001b[1;36m4\u001b[0m\u001b[1;33m]\u001b[0m\u001b[1;33m,\u001b[0m \u001b[0mcolor\u001b[0m\u001b[1;33m=\u001b[0m\u001b[1;34m\"deeppink\"\u001b[0m\u001b[1;33m,\u001b[0m \u001b[0max\u001b[0m\u001b[1;33m=\u001b[0m\u001b[0maxes\u001b[0m\u001b[1;33m[\u001b[0m\u001b[1;36m4\u001b[0m\u001b[1;33m]\u001b[0m\u001b[1;33m)\u001b[0m\u001b[1;33m\u001b[0m\u001b[1;33m\u001b[0m\u001b[0m\n\u001b[0;32m     11\u001b[0m \u001b[0max\u001b[0m\u001b[1;33m.\u001b[0m\u001b[0mset\u001b[0m\u001b[1;33m(\u001b[0m\u001b[0mxlabel\u001b[0m\u001b[1;33m=\u001b[0m\u001b[1;34m\"33\"\u001b[0m\u001b[1;33m)\u001b[0m\u001b[1;33m\u001b[0m\u001b[1;33m\u001b[0m\u001b[0m\n\u001b[1;32m---> 12\u001b[1;33m \u001b[0max\u001b[0m \u001b[1;33m=\u001b[0m\u001b[0msns\u001b[0m\u001b[1;33m.\u001b[0m\u001b[0mhistplot\u001b[0m\u001b[1;33m(\u001b[0m\u001b[0mdata\u001b[0m\u001b[1;33m=\u001b[0m\u001b[0minter\u001b[0m\u001b[1;33m[\u001b[0m\u001b[1;36m4\u001b[0m\u001b[1;33m]\u001b[0m\u001b[1;33m,\u001b[0m \u001b[0mcolor\u001b[0m\u001b[1;33m=\u001b[0m\u001b[1;34m\"deeppink\"\u001b[0m\u001b[1;33m,\u001b[0m \u001b[0max\u001b[0m\u001b[1;33m=\u001b[0m\u001b[0maxes\u001b[0m\u001b[1;33m[\u001b[0m\u001b[1;36m5\u001b[0m\u001b[1;33m]\u001b[0m\u001b[1;33m)\u001b[0m\u001b[1;33m\u001b[0m\u001b[1;33m\u001b[0m\u001b[0m\n\u001b[0m\u001b[0;32m     13\u001b[0m \u001b[0mplt\u001b[0m\u001b[1;33m.\u001b[0m\u001b[0mxlim\u001b[0m\u001b[1;33m(\u001b[0m\u001b[1;36m50\u001b[0m\u001b[1;33m,\u001b[0m\u001b[1;36m75\u001b[0m\u001b[1;33m)\u001b[0m\u001b[1;33m;\u001b[0m\u001b[1;33m\u001b[0m\u001b[1;33m\u001b[0m\u001b[0m\n",
      "\u001b[1;31mIndexError\u001b[0m: index 5 is out of bounds for axis 0 with size 5"
     ]
    },
    {
     "data": {
      "image/png": "[encoded data removed]",
      "text/plain": [
       "<Figure size 1000x300 with 5 Axes>"
      ]
     },
     "metadata": {
      "needs_background": "light"
     },
     "output_type": "display_data"
    }
   ],
   "source": [
    "fig, axes = plt.subplots(1, 5, figsize=(10, 3), sharey=True, dpi=100)\n",
    "ax = sns.histplot(data= inter[0], color=\"dodgerblue\", ax=axes[0],bins=10)\n",
    "ax.set(xlabel=\"1\")\n",
    "ax =sns.histplot(data=inter[1], color=\"deeppink\", ax=axes[1],bins=10)\n",
    "ax.set(xlabel=\"3\")\n",
    "ax =sns.histplot(data=inter[2], color=\"gold\", ax=axes[2], bins=10)\n",
    "ax.set(xlabel=\"5\")\n",
    "ax =sns.histplot(data=inter[3],  color=\"dodgerblue\", ax=axes[3], bins=10)\n",
    "ax.set(xlabel=\"11\")\n",
    "ax =sns.histplot(data=inter[4], color=\"deeppink\", ax=axes[4])\n",
    "ax.set(xlabel=\"33\")\n",
    "ax =sns.histplot(data=inter[4], color=\"deeppink\", ax=axes[5])\n",
    "plt.xlim(50,75);"
   ]
  },
  {
   "cell_type": "code",
   "execution_count": null,
   "metadata": {},
   "outputs": [],
   "source": [
    "print(f\"TEST 1&3  : {kruskal(inter[0],inter[1])}\")\n",
    "print(f\"TEST 1&5   : {kruskal(inter[0],inter[2])}\")\n",
    "print(f\"TEST 1&11  : {kruskal(inter[0],inter[3])}\")\n",
    "print(f\"TEST 1&33  : {kruskal(inter[0],inter[4])}\")\n",
    "print(f\"TEST 3&5   : {kruskal(inter[1],inter[2])}\")\n",
    "print(f\"TEST 3&11  : {kruskal(inter[1],inter[3])}\")\n",
    "print(f\"TEST 3&33  : {kruskal(inter[1],inter[4])}\")\n",
    "print(f\"TEST 5&11  : {kruskal(inter[2],inter[3])}\")\n",
    "print(f\"TEST 5&33  : {kruskal(inter[2],inter[4])}\")\n",
    "print(f\"TEST 11&33 : {kruskal(inter[3],inter[4])}\")"
   ]
  },
  {
   "cell_type": "code",
   "execution_count": null,
   "metadata": {},
   "outputs": [],
   "source": [
    "print(f\"TEST 1&3 arrival : {kruskal(data[0],data[1])}\")\n",
    "print(f\"TEST 1&5 arrival : {kruskal(data[0],data[2])}\")\n",
    "print(f\"TEST 1&11 arrival : {kruskal(data[0],data[3])}\")\n",
    "print(f\"TEST 1&33 arrival : {kruskal(data[0],data[4])}\")\n",
    "print(f\"TEST 3&5 arrival : {kruskal(data[1],data[2])}\")\n",
    "print(f\"TEST 3&11 arrival : {kruskal(data[1],data[3])}\")\n",
    "print(f\"TEST 3&33 arrival : {kruskal(data[1],data[4])}\")\n",
    "print(f\"TEST 5&11 arrival : {kruskal(data[2],data[3])}\")\n",
    "print(f\"TEST 5&33 arrival : {kruskal(data[2],data[4])}\")\n",
    "print(f\"TEST 11&33 arrival : {kruskal(data[3],data[4])}\")"
   ]
  },
  {
   "cell_type": "code",
   "execution_count": 16,
   "metadata": {},
   "outputs": [
    {
     "name": "stdout",
     "output_type": "stream",
     "text": [
      "TEST 1&333   : KruskalResult(statistic=3.491858997162768, pvalue=0.061671294565409665)\n",
      "TEST 1&5   : KruskalResult(statistic=0.7636782166625313, pvalue=0.38217987978226964)\n",
      "TEST 1&11  : KruskalResult(statistic=0.32894130963927226, pvalue=0.5662831492821345)\n",
      "TEST 333&5   : KruskalResult(statistic=0.8817869912137078, pvalue=0.3477127036959603)\n",
      "TEST 333&11  : KruskalResult(statistic=3.85336564496912, pvalue=0.04964627333225496)\n",
      "TEST 5&11  : KruskalResult(statistic=1.1269900142653584, pvalue=0.28841828609435416)\n"
     ]
    }
   ],
   "source": [
    "inter_333 = inter[1].copy()\n",
    "inter_333.extend(inter[4])\n",
    "\n",
    "print(f\"TEST 1&333   : {kruskal(inter[0],inter_333)}\")\n",
    "print(f\"TEST 1&5   : {kruskal(inter[0],inter[2])}\")\n",
    "print(f\"TEST 1&11  : {kruskal(inter[0],inter[3])}\")\n",
    "print(f\"TEST 333&5   : {kruskal(inter_333,inter[2])}\")\n",
    "print(f\"TEST 333&11  : {kruskal(inter_333,inter[3])}\")\n",
    "print(f\"TEST 5&11  : {kruskal(inter[2],inter[3])}\")"
   ]
  },
  {
   "cell_type": "code",
   "execution_count": 17,
   "metadata": {},
   "outputs": [
    {
     "name": "stdout",
     "output_type": "stream",
     "text": [
      "TEST 1&333 arrival : KruskalResult(statistic=10.039023474178407, pvalue=0.00153258427705946)\n",
      "TEST 1&5 arrival : KruskalResult(statistic=9.445493132971096, pvalue=0.002116685805182548)\n",
      "TEST 1&11 arrival : KruskalResult(statistic=1.0642251953767068, pvalue=0.30225349028295456)\n",
      "TEST 333&5 arrival : KruskalResult(statistic=0.8524260355029583, pvalue=0.3558669288809979)\n",
      "TEST 333&11 arrival : KruskalResult(statistic=13.789152542372875, pvalue=0.0002045136468522091)\n",
      "TEST 5&11 arrival : KruskalResult(statistic=16.30822715280179, pvalue=5.382973466598365e-05)\n"
     ]
    }
   ],
   "source": [
    "data_333 = data[1].copy()\n",
    "data_333.extend(data[4])\n",
    "\n",
    "print(f\"TEST 1&333 arrival : {kruskal(data[0],data_333)}\")\n",
    "print(f\"TEST 1&5 arrival : {kruskal(data[0],data[2])}\")\n",
    "print(f\"TEST 1&11 arrival : {kruskal(data[0],data[3])}\")\n",
    "print(f\"TEST 333&5 arrival : {kruskal(data_333,data[2])}\")\n",
    "print(f\"TEST 333&11 arrival : {kruskal(data_333,data[3])}\")\n",
    "print(f\"TEST 5&11 arrival : {kruskal(data[2],data[3])}\")"
   ]
  },
  {
   "cell_type": "code",
   "execution_count": 18,
   "metadata": {},
   "outputs": [
    {
     "name": "stdout",
     "output_type": "stream",
     "text": [
      "TEST 1&3335   : KruskalResult(statistic=2.7330561542761584, pvalue=0.09829103323066252)\n",
      "TEST 1&11   : KruskalResult(statistic=0.32894130963927226, pvalue=0.5662831492821345)\n",
      "TEST 11&3335 : KruskalResult(statistic=3.160633651042996, pvalue=0.07543389860136641)\n"
     ]
    }
   ],
   "source": [
    "inter_3335 = inter_333.copy()\n",
    "inter_3335.extend(inter[2])\n",
    "\n",
    "print(f\"TEST 1&3335   : {kruskal(inter[0],inter_3335)}\")\n",
    "print(f\"TEST 1&11   : {kruskal(inter[0],inter[3])}\")\n",
    "print(f\"TEST 11&3335 : {kruskal(inter[3],inter_3335)}\")"
   ]
  },
  {
   "cell_type": "code",
   "execution_count": 19,
   "metadata": {},
   "outputs": [
    {
     "name": "stdout",
     "output_type": "stream",
     "text": [
      "TEST 1&3335 arrival : KruskalResult(statistic=14.352553379004602, pvalue=0.00015157399237302667)\n",
      "TEST 1&11 arrival : KruskalResult(statistic=1.0642251953767068, pvalue=0.30225349028295456)\n",
      "TEST 11&3335 arrival : KruskalResult(statistic=21.05513610513335, pvalue=4.46255051885191e-06)\n"
     ]
    }
   ],
   "source": [
    "data_3335 = data_333.copy()\n",
    "data_3335.extend(data[2])\n",
    "\n",
    "print(f\"TEST 1&3335 arrival : {kruskal(data[0],data_3335)}\")\n",
    "print(f\"TEST 1&11 arrival : {kruskal(data[0],data[3])}\")\n",
    "print(f\"TEST 11&3335 arrival : {kruskal(data[3],data_3335)}\")"
   ]
  },
  {
   "cell_type": "code",
   "execution_count": 20,
   "metadata": {},
   "outputs": [
    {
     "name": "stdout",
     "output_type": "stream",
     "text": [
      "TEST 111&3335   : KruskalResult(statistic=4.05491580652954, pvalue=0.04404291513325165)\n",
      "TEST 1&3335 arrival : KruskalResult(statistic=24.000410096607776, pvalue=9.631518402490757e-07)\n"
     ]
    }
   ],
   "source": [
    "inter_111 = inter[0].copy()\n",
    "inter_111.extend(inter[3])\n",
    "print(f\"TEST 111&3335   : {kruskal(inter_111,inter_3335)}\")\n",
    "\n",
    "data_111 = data[0].copy()\n",
    "data_111.extend(data[3])\n",
    "print(f\"TEST 1&3335 arrival : {kruskal(data_111,data_3335)}\")"
   ]
  },
  {
   "cell_type": "code",
   "execution_count": 32,
   "metadata": {},
   "outputs": [],
   "source": [
    "df1 = pd.concat([df_1,df_11])\n",
    "df35 = pd.concat([df_3,df_5,df_33])\n",
    "df1.index = [i+1 for i in range(len(df1))]\n",
    "df35.index = [i+1 for i in range(len(df35))]\n",
    "\n",
    "allplus = [df1[\"all\"][i+1] for i in range(len(df1))]\n",
    "allplus.insert(0,0)\n",
    "allplus.pop()\n",
    "df1[\"allplus\"] = allplus\n",
    "df1[\"inter\"] = df1[\"all\"]-df1[\"allplus\"]\n",
    "df_ = df1.iloc[1:]\n",
    "df__ = df_[[\"inter\",\"compound\"]]"
   ]
  },
  {
   "cell_type": "code",
   "execution_count": 24,
   "metadata": {},
   "outputs": [
    {
     "data": {
      "text/html": [
       "<div>\n",
       "<style scoped>\n",
       "    .dataframe tbody tr th:only-of-type {\n",
       "        vertical-align: middle;\n",
       "    }\n",
       "\n",
       "    .dataframe tbody tr th {\n",
       "        vertical-align: top;\n",
       "    }\n",
       "\n",
       "    .dataframe thead th {\n",
       "        text-align: right;\n",
       "    }\n",
       "</style>\n",
       "<table border=\"1\" class=\"dataframe\">\n",
       "  <thead>\n",
       "    <tr style=\"text-align: right;\">\n",
       "      <th></th>\n",
       "      <th>inter</th>\n",
       "      <th>compound</th>\n",
       "    </tr>\n",
       "  </thead>\n",
       "  <tbody>\n",
       "    <tr>\n",
       "      <th>inter</th>\n",
       "      <td>1.000000</td>\n",
       "      <td>0.112925</td>\n",
       "    </tr>\n",
       "    <tr>\n",
       "      <th>compound</th>\n",
       "      <td>0.112925</td>\n",
       "      <td>1.000000</td>\n",
       "    </tr>\n",
       "  </tbody>\n",
       "</table>\n",
       "</div>"
      ],
      "text/plain": [
       "             inter  compound\n",
       "inter     1.000000  0.112925\n",
       "compound  0.112925  1.000000"
      ]
     },
     "execution_count": 24,
     "metadata": {},
     "output_type": "execute_result"
    }
   ],
   "source": [
    "df__.corr(method=\"kendall\")"
   ]
  },
  {
   "cell_type": "code",
   "execution_count": 25,
   "metadata": {},
   "outputs": [
    {
     "data": {
      "text/html": [
       "<div>\n",
       "<style scoped>\n",
       "    .dataframe tbody tr th:only-of-type {\n",
       "        vertical-align: middle;\n",
       "    }\n",
       "\n",
       "    .dataframe tbody tr th {\n",
       "        vertical-align: top;\n",
       "    }\n",
       "\n",
       "    .dataframe thead th {\n",
       "        text-align: right;\n",
       "    }\n",
       "</style>\n",
       "<table border=\"1\" class=\"dataframe\">\n",
       "  <thead>\n",
       "    <tr style=\"text-align: right;\">\n",
       "      <th></th>\n",
       "      <th>inter</th>\n",
       "      <th>compound</th>\n",
       "    </tr>\n",
       "  </thead>\n",
       "  <tbody>\n",
       "    <tr>\n",
       "      <th>inter</th>\n",
       "      <td>1.000000</td>\n",
       "      <td>0.150289</td>\n",
       "    </tr>\n",
       "    <tr>\n",
       "      <th>compound</th>\n",
       "      <td>0.150289</td>\n",
       "      <td>1.000000</td>\n",
       "    </tr>\n",
       "  </tbody>\n",
       "</table>\n",
       "</div>"
      ],
      "text/plain": [
       "             inter  compound\n",
       "inter     1.000000  0.150289\n",
       "compound  0.150289  1.000000"
      ]
     },
     "execution_count": 25,
     "metadata": {},
     "output_type": "execute_result"
    }
   ],
   "source": [
    "df__.corr(method='spearman')"
   ]
  },
  {
   "cell_type": "code",
   "execution_count": 26,
   "metadata": {},
   "outputs": [
    {
     "data": {
      "text/html": [
       "<div>\n",
       "<style scoped>\n",
       "    .dataframe tbody tr th:only-of-type {\n",
       "        vertical-align: middle;\n",
       "    }\n",
       "\n",
       "    .dataframe tbody tr th {\n",
       "        vertical-align: top;\n",
       "    }\n",
       "\n",
       "    .dataframe thead th {\n",
       "        text-align: right;\n",
       "    }\n",
       "</style>\n",
       "<table border=\"1\" class=\"dataframe\">\n",
       "  <thead>\n",
       "    <tr style=\"text-align: right;\">\n",
       "      <th></th>\n",
       "      <th>inter</th>\n",
       "      <th>compound</th>\n",
       "    </tr>\n",
       "  </thead>\n",
       "  <tbody>\n",
       "    <tr>\n",
       "      <th>inter</th>\n",
       "      <td>1.000000</td>\n",
       "      <td>0.107943</td>\n",
       "    </tr>\n",
       "    <tr>\n",
       "      <th>compound</th>\n",
       "      <td>0.107943</td>\n",
       "      <td>1.000000</td>\n",
       "    </tr>\n",
       "  </tbody>\n",
       "</table>\n",
       "</div>"
      ],
      "text/plain": [
       "             inter  compound\n",
       "inter     1.000000  0.107943\n",
       "compound  0.107943  1.000000"
      ]
     },
     "execution_count": 26,
     "metadata": {},
     "output_type": "execute_result"
    }
   ],
   "source": [
    "df__.corr(method='pearson')"
   ]
  },
  {
   "cell_type": "code",
   "execution_count": 28,
   "metadata": {},
   "outputs": [],
   "source": [
    "allplus35 = [df35[\"all\"][i+1] for i in range(len(df35))]\n",
    "allplus35.insert(0,0)\n",
    "allplus35.pop()\n",
    "df35[\"allplus35\"] = allplus35\n",
    "df35[\"inter\"] = df35[\"all\"]-df35[\"allplus35\"]\n",
    "df_35 = df35.iloc[1:]\n",
    "df__35 = df_35[[\"inter\",\"compound\"]]"
   ]
  },
  {
   "cell_type": "code",
   "execution_count": 29,
   "metadata": {},
   "outputs": [
    {
     "data": {
      "text/html": [
       "<div>\n",
       "<style scoped>\n",
       "    .dataframe tbody tr th:only-of-type {\n",
       "        vertical-align: middle;\n",
       "    }\n",
       "\n",
       "    .dataframe tbody tr th {\n",
       "        vertical-align: top;\n",
       "    }\n",
       "\n",
       "    .dataframe thead th {\n",
       "        text-align: right;\n",
       "    }\n",
       "</style>\n",
       "<table border=\"1\" class=\"dataframe\">\n",
       "  <thead>\n",
       "    <tr style=\"text-align: right;\">\n",
       "      <th></th>\n",
       "      <th>inter</th>\n",
       "      <th>compound</th>\n",
       "    </tr>\n",
       "  </thead>\n",
       "  <tbody>\n",
       "    <tr>\n",
       "      <th>inter</th>\n",
       "      <td>1.000000</td>\n",
       "      <td>-0.059848</td>\n",
       "    </tr>\n",
       "    <tr>\n",
       "      <th>compound</th>\n",
       "      <td>-0.059848</td>\n",
       "      <td>1.000000</td>\n",
       "    </tr>\n",
       "  </tbody>\n",
       "</table>\n",
       "</div>"
      ],
      "text/plain": [
       "             inter  compound\n",
       "inter     1.000000 -0.059848\n",
       "compound -0.059848  1.000000"
      ]
     },
     "execution_count": 29,
     "metadata": {},
     "output_type": "execute_result"
    }
   ],
   "source": [
    "df__35.corr(method='pearson')"
   ]
  },
  {
   "cell_type": "code",
   "execution_count": 30,
   "metadata": {},
   "outputs": [
    {
     "data": {
      "text/html": [
       "<div>\n",
       "<style scoped>\n",
       "    .dataframe tbody tr th:only-of-type {\n",
       "        vertical-align: middle;\n",
       "    }\n",
       "\n",
       "    .dataframe tbody tr th {\n",
       "        vertical-align: top;\n",
       "    }\n",
       "\n",
       "    .dataframe thead th {\n",
       "        text-align: right;\n",
       "    }\n",
       "</style>\n",
       "<table border=\"1\" class=\"dataframe\">\n",
       "  <thead>\n",
       "    <tr style=\"text-align: right;\">\n",
       "      <th></th>\n",
       "      <th>inter</th>\n",
       "      <th>compound</th>\n",
       "    </tr>\n",
       "  </thead>\n",
       "  <tbody>\n",
       "    <tr>\n",
       "      <th>inter</th>\n",
       "      <td>1.000000</td>\n",
       "      <td>-0.112895</td>\n",
       "    </tr>\n",
       "    <tr>\n",
       "      <th>compound</th>\n",
       "      <td>-0.112895</td>\n",
       "      <td>1.000000</td>\n",
       "    </tr>\n",
       "  </tbody>\n",
       "</table>\n",
       "</div>"
      ],
      "text/plain": [
       "             inter  compound\n",
       "inter     1.000000 -0.112895\n",
       "compound -0.112895  1.000000"
      ]
     },
     "execution_count": 30,
     "metadata": {},
     "output_type": "execute_result"
    }
   ],
   "source": [
    "df__35.corr(method='spearman')"
   ]
  },
  {
   "cell_type": "code",
   "execution_count": 31,
   "metadata": {},
   "outputs": [
    {
     "data": {
      "text/html": [
       "<div>\n",
       "<style scoped>\n",
       "    .dataframe tbody tr th:only-of-type {\n",
       "        vertical-align: middle;\n",
       "    }\n",
       "\n",
       "    .dataframe tbody tr th {\n",
       "        vertical-align: top;\n",
       "    }\n",
       "\n",
       "    .dataframe thead th {\n",
       "        text-align: right;\n",
       "    }\n",
       "</style>\n",
       "<table border=\"1\" class=\"dataframe\">\n",
       "  <thead>\n",
       "    <tr style=\"text-align: right;\">\n",
       "      <th></th>\n",
       "      <th>inter</th>\n",
       "      <th>compound</th>\n",
       "    </tr>\n",
       "  </thead>\n",
       "  <tbody>\n",
       "    <tr>\n",
       "      <th>inter</th>\n",
       "      <td>1.000000</td>\n",
       "      <td>-0.091829</td>\n",
       "    </tr>\n",
       "    <tr>\n",
       "      <th>compound</th>\n",
       "      <td>-0.091829</td>\n",
       "      <td>1.000000</td>\n",
       "    </tr>\n",
       "  </tbody>\n",
       "</table>\n",
       "</div>"
      ],
      "text/plain": [
       "             inter  compound\n",
       "inter     1.000000 -0.091829\n",
       "compound -0.091829  1.000000"
      ]
     },
     "execution_count": 31,
     "metadata": {},
     "output_type": "execute_result"
    }
   ],
   "source": [
    "df__35.corr(method=\"kendall\")"
   ]
  }
 ],
 "metadata": {
  "kernelspec": {
   "display_name": "Python 3",
   "language": "python",
   "name": "python3"
  },
  "language_info": {
   "codemirror_mode": {
    "name": "ipython",
    "version": 3
   },
   "file_extension": ".py",
   "mimetype": "text/x-python",
   "name": "python",
   "nbconvert_exporter": "python",
   "pygments_lexer": "ipython3",
   "version": "3.8.5"
  }
 },
 "nbformat": 4,
 "nbformat_minor": 4
}
